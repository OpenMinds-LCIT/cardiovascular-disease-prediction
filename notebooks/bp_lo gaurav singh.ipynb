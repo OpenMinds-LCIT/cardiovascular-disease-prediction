{
 "cells": [
  {
   "cell_type": "code",
   "execution_count": 23,
   "id": "ccb647f3",
   "metadata": {},
   "outputs": [],
   "source": [
    "import pandas as pd\n",
    "import numpy as np\n",
    "import matplotlib.pyplot as plt\n",
    "import seaborn as sns\n",
    "data = pd.read_csv(r\"C:\\Users\\gaura\\Documents\\data\\cleaned_data.csv\")"
   ]
  },
  {
   "cell_type": "code",
   "execution_count": 24,
   "id": "c1908317",
   "metadata": {},
   "outputs": [
    {
     "data": {
      "text/plain": [
       "120.0"
      ]
     },
     "execution_count": 24,
     "metadata": {},
     "output_type": "execute_result"
    }
   ],
   "source": [
    "data['bp_lo'].max()"
   ]
  },
  {
   "cell_type": "code",
   "execution_count": 25,
   "id": "8b771f95",
   "metadata": {
    "scrolled": true
   },
   "outputs": [
    {
     "data": {
      "text/html": [
       "<div>\n",
       "<style scoped>\n",
       "    .dataframe tbody tr th:only-of-type {\n",
       "        vertical-align: middle;\n",
       "    }\n",
       "\n",
       "    .dataframe tbody tr th {\n",
       "        vertical-align: top;\n",
       "    }\n",
       "\n",
       "    .dataframe thead th {\n",
       "        text-align: right;\n",
       "    }\n",
       "</style>\n",
       "<table border=\"1\" class=\"dataframe\">\n",
       "  <thead>\n",
       "    <tr style=\"text-align: right;\">\n",
       "      <th></th>\n",
       "      <th>id</th>\n",
       "      <th>Age</th>\n",
       "      <th>gender</th>\n",
       "      <th>height</th>\n",
       "      <th>weight</th>\n",
       "      <th>bp_high</th>\n",
       "      <th>bp_lo</th>\n",
       "      <th>cholesterol</th>\n",
       "      <th>gluc</th>\n",
       "      <th>diabetic</th>\n",
       "      <th>smoke</th>\n",
       "      <th>alco</th>\n",
       "      <th>active</th>\n",
       "      <th>cardio</th>\n",
       "    </tr>\n",
       "  </thead>\n",
       "  <tbody>\n",
       "    <tr>\n",
       "      <th>0</th>\n",
       "      <td>0</td>\n",
       "      <td>50</td>\n",
       "      <td>2</td>\n",
       "      <td>168</td>\n",
       "      <td>62.0</td>\n",
       "      <td>110</td>\n",
       "      <td>80.0</td>\n",
       "      <td>1</td>\n",
       "      <td>1</td>\n",
       "      <td>1</td>\n",
       "      <td>0</td>\n",
       "      <td>0</td>\n",
       "      <td>1</td>\n",
       "      <td>0</td>\n",
       "    </tr>\n",
       "    <tr>\n",
       "      <th>1</th>\n",
       "      <td>1</td>\n",
       "      <td>55</td>\n",
       "      <td>1</td>\n",
       "      <td>156</td>\n",
       "      <td>85.0</td>\n",
       "      <td>140</td>\n",
       "      <td>90.0</td>\n",
       "      <td>3</td>\n",
       "      <td>1</td>\n",
       "      <td>3</td>\n",
       "      <td>0</td>\n",
       "      <td>0</td>\n",
       "      <td>1</td>\n",
       "      <td>1</td>\n",
       "    </tr>\n",
       "    <tr>\n",
       "      <th>2</th>\n",
       "      <td>2</td>\n",
       "      <td>52</td>\n",
       "      <td>1</td>\n",
       "      <td>165</td>\n",
       "      <td>64.0</td>\n",
       "      <td>130</td>\n",
       "      <td>70.0</td>\n",
       "      <td>3</td>\n",
       "      <td>1</td>\n",
       "      <td>3</td>\n",
       "      <td>0</td>\n",
       "      <td>0</td>\n",
       "      <td>0</td>\n",
       "      <td>1</td>\n",
       "    </tr>\n",
       "    <tr>\n",
       "      <th>3</th>\n",
       "      <td>3</td>\n",
       "      <td>48</td>\n",
       "      <td>2</td>\n",
       "      <td>169</td>\n",
       "      <td>82.0</td>\n",
       "      <td>150</td>\n",
       "      <td>100.0</td>\n",
       "      <td>1</td>\n",
       "      <td>1</td>\n",
       "      <td>1</td>\n",
       "      <td>0</td>\n",
       "      <td>0</td>\n",
       "      <td>1</td>\n",
       "      <td>1</td>\n",
       "    </tr>\n",
       "    <tr>\n",
       "      <th>4</th>\n",
       "      <td>4</td>\n",
       "      <td>48</td>\n",
       "      <td>1</td>\n",
       "      <td>156</td>\n",
       "      <td>56.0</td>\n",
       "      <td>100</td>\n",
       "      <td>60.0</td>\n",
       "      <td>1</td>\n",
       "      <td>1</td>\n",
       "      <td>1</td>\n",
       "      <td>0</td>\n",
       "      <td>0</td>\n",
       "      <td>0</td>\n",
       "      <td>0</td>\n",
       "    </tr>\n",
       "  </tbody>\n",
       "</table>\n",
       "</div>"
      ],
      "text/plain": [
       "   id  Age  gender  height  weight  bp_high   bp_lo  cholesterol  gluc  \\\n",
       "0   0   50       2     168    62.0       110   80.0            1     1   \n",
       "1   1   55       1     156    85.0       140   90.0            3     1   \n",
       "2   2   52       1     165    64.0       130   70.0            3     1   \n",
       "3   3   48       2     169    82.0       150  100.0            1     1   \n",
       "4   4   48       1     156    56.0       100   60.0            1     1   \n",
       "\n",
       "   diabetic  smoke  alco  active  cardio  \n",
       "0         1      0     0       1       0  \n",
       "1         3      0     0       1       1  \n",
       "2         3      0     0       0       1  \n",
       "3         1      0     0       1       1  \n",
       "4         1      0     0       0       0  "
      ]
     },
     "execution_count": 25,
     "metadata": {},
     "output_type": "execute_result"
    }
   ],
   "source": [
    "data.head()"
   ]
  },
  {
   "cell_type": "code",
   "execution_count": 26,
   "id": "b2e67cad",
   "metadata": {},
   "outputs": [
    {
     "name": "stdout",
     "output_type": "stream",
     "text": [
      "count    68626.000000\n",
      "mean        81.304797\n",
      "std          9.355849\n",
      "min         50.000000\n",
      "25%         80.000000\n",
      "50%         80.000000\n",
      "75%         90.000000\n",
      "max        120.000000\n",
      "Name: bp_lo, dtype: float64\n",
      "1114\n",
      "float64\n"
     ]
    }
   ],
   "source": [
    "print(data[\"bp_lo\"].describe())\n",
    "print(data[\"bp_lo\"].isnull().sum())\n",
    "print(data[\"bp_lo\"].dtypes)"
   ]
  },
  {
   "cell_type": "code",
   "execution_count": 27,
   "id": "1a297c57",
   "metadata": {},
   "outputs": [
    {
     "name": "stdout",
     "output_type": "stream",
     "text": [
      "80.0\n"
     ]
    }
   ],
   "source": [
    "m_bp_lo = data.loc[:, 'bp_lo'].mean()\n",
    "m_round=round(m_bp_lo,-1)\n",
    "print(m_round)"
   ]
  },
  {
   "cell_type": "code",
   "execution_count": 28,
   "id": "d168cc21",
   "metadata": {},
   "outputs": [
    {
     "data": {
      "text/plain": [
       "(array([  227,   240,   259, ..., 69618, 69625, 69707], dtype=int64),\n",
       " array([6, 6, 6, ..., 6, 6, 6], dtype=int64))"
      ]
     },
     "execution_count": 28,
     "metadata": {},
     "output_type": "execute_result"
    }
   ],
   "source": [
    "np.where(pd.isnull(data))"
   ]
  },
  {
   "cell_type": "code",
   "execution_count": 29,
   "id": "e629d8ff",
   "metadata": {
    "scrolled": true
   },
   "outputs": [
    {
     "name": "stdout",
     "output_type": "stream",
     "text": [
      "Updated Dataframe:\n",
      "          id  Age  gender  height  weight  bp_high   bp_lo  cholesterol  gluc  \\\n",
      "0          0   50       2     168    62.0       110   80.0            1     1   \n",
      "1          1   55       1     156    85.0       140   90.0            3     1   \n",
      "2          2   52       1     165    64.0       130   70.0            3     1   \n",
      "3          3   48       2     169    82.0       150  100.0            1     1   \n",
      "4          4   48       1     156    56.0       100   60.0            1     1   \n",
      "...      ...  ...     ...     ...     ...       ...    ...          ...   ...   \n",
      "69735  99993   53       2     168    76.0       120   80.0            1     1   \n",
      "69736  99995   62       1     158   126.0       140   90.0            2     2   \n",
      "69737  99996   52       2     183   105.0       180   90.0            3     1   \n",
      "69738  99998   61       1     163    72.0       135   80.0            1     2   \n",
      "69739  99999   56       1     170    72.0       120   80.0            2     1   \n",
      "\n",
      "       diabetic  smoke  alco  active  cardio  \n",
      "0             1      0     0       1       0  \n",
      "1             3      0     0       1       1  \n",
      "2             3      0     0       0       1  \n",
      "3             1      0     0       1       1  \n",
      "4             1      0     0       0       0  \n",
      "...         ...    ...   ...     ...     ...  \n",
      "69735         1      1     0       1       0  \n",
      "69736         2      0     0       1       1  \n",
      "69737         3      0     1       0       1  \n",
      "69738         2      0     0       0       1  \n",
      "69739         1      0     0       1       0  \n",
      "\n",
      "[69740 rows x 14 columns]\n"
     ]
    }
   ],
   "source": [
    "data['bp_lo'].fillna(value=m_round, inplace=True)\n",
    "print('Updated Dataframe:')\n",
    "print(data)"
   ]
  },
  {
   "cell_type": "code",
   "execution_count": 30,
   "id": "951b45e2",
   "metadata": {},
   "outputs": [],
   "source": [
    "data.to_csv(\"lets see.csv\")"
   ]
  },
  {
   "cell_type": "code",
   "execution_count": 31,
   "id": "ebf8f3cb",
   "metadata": {},
   "outputs": [
    {
     "name": "stdout",
     "output_type": "stream",
     "text": [
      "0.33602422578365915\n"
     ]
    }
   ],
   "source": [
    "corr=data[\"bp_lo\"]. corr(data[\"cardio\"])\n",
    "print(corr)"
   ]
  },
  {
   "cell_type": "code",
   "execution_count": 32,
   "id": "fd943e05",
   "metadata": {},
   "outputs": [
    {
     "name": "stdout",
     "output_type": "stream",
     "text": [
      "-0.0014351648787064419\n"
     ]
    }
   ],
   "source": [
    "c=data[\"bp_lo\"]. corr(data[\"active\"])\n",
    "print(c)"
   ]
  },
  {
   "cell_type": "code",
   "execution_count": 33,
   "id": "bf864cdf",
   "metadata": {},
   "outputs": [
    {
     "data": {
      "image/png": "[encoded data removed]",
      "text/plain": [
       "<Figure size 640x480 with 1 Axes>"
      ]
     },
     "metadata": {},
     "output_type": "display_data"
    }
   ],
   "source": [
    "plt.hist(data[\"bp_lo\"])\n",
    "plt.xlabel('Blood Pressure Low')\n",
    "plt.ylabel('Frequency')\n",
    "plt.title('')\n",
    "plt.show()"
   ]
  },
  {
   "cell_type": "code",
   "execution_count": 34,
   "id": "499de80e",
   "metadata": {},
   "outputs": [
    {
     "name": "stdout",
     "output_type": "stream",
     "text": [
      "Original DataFrame:\n",
      "0         80.0\n",
      "1         90.0\n",
      "2         70.0\n",
      "3        100.0\n",
      "4         60.0\n",
      "         ...  \n",
      "69735     80.0\n",
      "69736     90.0\n",
      "69737     90.0\n",
      "69738     80.0\n",
      "69739     80.0\n",
      "Name: bp_lo, Length: 69740, dtype: float64\n",
      "\n",
      "DataFrame after Min-Max Scaling:\n",
      "0        0.428571\n",
      "1        0.571429\n",
      "2        0.285714\n",
      "3        0.714286\n",
      "4        0.142857\n",
      "           ...   \n",
      "69735    0.428571\n",
      "69736    0.571429\n",
      "69737    0.571429\n",
      "69738    0.428571\n",
      "69739    0.428571\n",
      "Name: bp_lo, Length: 69740, dtype: float64\n",
      "\n"
     ]
    }
   ],
   "source": [
    "print(\"Original DataFrame:\")\n",
    "print(data[\"bp_lo\"])\n",
    "print()\n",
    "\n",
    "#  Min-Max Scaling\n",
    "def min_max_scaling(df, column_name):\n",
    "    min_value = df[column_name].min()\n",
    "    max_value = df[column_name].max()\n",
    "    df[column_name] = (df[column_name] - min_value) / (max_value - min_value)\n",
    "\n",
    "min_max_scaling(data,\"bp_lo\" )\n",
    "\n",
    "print(\"DataFrame after Min-Max Scaling:\")\n",
    "print(data[\"bp_lo\"])\n",
    "print()"
   ]
  },
  {
   "cell_type": "code",
   "execution_count": 35,
   "id": "0cdfd948",
   "metadata": {},
   "outputs": [
    {
     "data": {
      "text/html": [
       "<div>\n",
       "<style scoped>\n",
       "    .dataframe tbody tr th:only-of-type {\n",
       "        vertical-align: middle;\n",
       "    }\n",
       "\n",
       "    .dataframe tbody tr th {\n",
       "        vertical-align: top;\n",
       "    }\n",
       "\n",
       "    .dataframe thead th {\n",
       "        text-align: right;\n",
       "    }\n",
       "</style>\n",
       "<table border=\"1\" class=\"dataframe\">\n",
       "  <thead>\n",
       "    <tr style=\"text-align: right;\">\n",
       "      <th></th>\n",
       "      <th>bp_lo</th>\n",
       "      <th>cardio</th>\n",
       "      <th>active</th>\n",
       "    </tr>\n",
       "  </thead>\n",
       "  <tbody>\n",
       "    <tr>\n",
       "      <th>bp_lo</th>\n",
       "      <td>1.000000</td>\n",
       "      <td>0.336024</td>\n",
       "      <td>-0.001435</td>\n",
       "    </tr>\n",
       "    <tr>\n",
       "      <th>cardio</th>\n",
       "      <td>0.336024</td>\n",
       "      <td>1.000000</td>\n",
       "      <td>-0.035784</td>\n",
       "    </tr>\n",
       "    <tr>\n",
       "      <th>active</th>\n",
       "      <td>-0.001435</td>\n",
       "      <td>-0.035784</td>\n",
       "      <td>1.000000</td>\n",
       "    </tr>\n",
       "  </tbody>\n",
       "</table>\n",
       "</div>"
      ],
      "text/plain": [
       "           bp_lo    cardio    active\n",
       "bp_lo   1.000000  0.336024 -0.001435\n",
       "cardio  0.336024  1.000000 -0.035784\n",
       "active -0.001435 -0.035784  1.000000"
      ]
     },
     "execution_count": 35,
     "metadata": {},
     "output_type": "execute_result"
    }
   ],
   "source": [
    "correlation_matrix = data[['bp_lo', 'cardio', 'active']].corr()\n",
    "correlation_matrix"
   ]
  },
  {
   "cell_type": "code",
   "execution_count": 36,
   "id": "77f7ec02",
   "metadata": {},
   "outputs": [
    {
     "data": {
      "image/png": "[encoded data removed]",
      "text/plain": [
       "<Figure size 640x480 with 2 Axes>"
      ]
     },
     "metadata": {},
     "output_type": "display_data"
    }
   ],
   "source": [
    "dataplot = sns.heatmap(correlation_matrix, cmap=\"YlGnBu\", annot=True) \n",
    "plt.show() "
   ]
  },
  {
   "cell_type": "code",
   "execution_count": null,
   "id": "dd835722",
   "metadata": {},
   "outputs": [],
   "source": []
  }
 ],
 "metadata": {
  "kernelspec": {
   "display_name": "Python 3 (ipykernel)",
   "language": "python",
   "name": "python3"
  },
  "language_info": {
   "codemirror_mode": {
    "name": "ipython",
    "version": 3
   },
   "file_extension": ".py",
   "mimetype": "text/x-python",
   "name": "python",
   "nbconvert_exporter": "python",
   "pygments_lexer": "ipython3",
   "version": "3.11.5"
  }
 },
 "nbformat": 4,
 "nbformat_minor": 5
}
