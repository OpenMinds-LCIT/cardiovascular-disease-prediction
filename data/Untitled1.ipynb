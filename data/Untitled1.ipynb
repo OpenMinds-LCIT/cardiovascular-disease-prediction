{
 "cells": [
  {
   "cell_type": "code",
   "execution_count": 11,
   "id": "866cf2fe",
   "metadata": {},
   "outputs": [
    {
     "name": "stdout",
     "output_type": "stream",
     "text": [
      "Collecting split_dataset\n",
      "  Downloading split_dataset-0.4.4-py2.py3-none-any.whl (12 kB)\n",
      "Collecting flammkuchen\n",
      "  Downloading flammkuchen-1.0.3-py2.py3-none-any.whl (16 kB)\n",
      "Requirement already satisfied: numpy in c:\\users\\rutul\\appdata\\local\\programs\\python\\python39\\lib\\site-packages (from split_dataset) (1.26.4)\n",
      "Requirement already satisfied: scipy in c:\\users\\rutul\\appdata\\local\\programs\\python\\python39\\lib\\site-packages (from flammkuchen->split_dataset) (1.12.0)\n",
      "Collecting tables\n",
      "  Downloading tables-3.9.2-cp39-cp39-win_amd64.whl (4.4 MB)\n",
      "Collecting numexpr>=2.6.2\n",
      "  Downloading numexpr-2.9.0-cp39-cp39-win_amd64.whl (96 kB)\n",
      "Collecting blosc2>=2.3.0\n",
      "  Downloading blosc2-2.5.1-cp39-cp39-win_amd64.whl (2.3 MB)\n",
      "Requirement already satisfied: packaging in c:\\users\\rutul\\appdata\\local\\programs\\python\\python39\\lib\\site-packages (from tables->flammkuchen->split_dataset) (23.0)\n",
      "Collecting py-cpuinfo\n",
      "  Downloading py_cpuinfo-9.0.0-py3-none-any.whl (22 kB)\n",
      "Collecting ndindex>=1.4\n",
      "  Downloading ndindex-1.8-py3-none-any.whl (91 kB)\n",
      "Collecting msgpack\n",
      "  Downloading msgpack-1.0.8-cp39-cp39-win_amd64.whl (75 kB)\n",
      "Installing collected packages: numexpr, ndindex, py-cpuinfo, msgpack, blosc2, tables, flammkuchen, split-dataset\n",
      "Successfully installed blosc2-2.5.1 flammkuchen-1.0.3 msgpack-1.0.8 ndindex-1.8 numexpr-2.9.0 py-cpuinfo-9.0.0 split-dataset-0.4.4 tables-3.9.2\n"
     ]
    },
    {
     "name": "stderr",
     "output_type": "stream",
     "text": [
      "WARNING: You are using pip version 20.2.3; however, version 24.0 is available.\n",
      "You should consider upgrading via the 'c:\\users\\rutul\\appdata\\local\\programs\\python\\python39\\python.exe -m pip install --upgrade pip' command.\n"
     ]
    },
    {
     "ename": "ImportError",
     "evalue": "cannot import name 'split_data' from 'split_dataset' (c:\\users\\rutul\\appdata\\local\\programs\\python\\python39\\lib\\site-packages\\split_dataset\\__init__.py)",
     "output_type": "error",
     "traceback": [
      "\u001b[1;31m---------------------------------------------------------------------------\u001b[0m",
      "\u001b[1;31mImportError\u001b[0m                               Traceback (most recent call last)",
      "Cell \u001b[1;32mIn[11], line 4\u001b[0m\n\u001b[0;32m      1\u001b[0m get_ipython()\u001b[38;5;241m.\u001b[39msystem(\u001b[38;5;124m'\u001b[39m\u001b[38;5;124mpip install split_dataset\u001b[39m\u001b[38;5;124m'\u001b[39m)\n\u001b[0;32m      2\u001b[0m \u001b[38;5;66;03m#!pip install scikit-learn\u001b[39;00m\n\u001b[0;32m      3\u001b[0m \u001b[38;5;66;03m#from sklearn.feature_extraction import extract_feature\u001b[39;00m\n\u001b[1;32m----> 4\u001b[0m \u001b[38;5;28;01mfrom\u001b[39;00m \u001b[38;5;21;01msplit_dataset\u001b[39;00m \u001b[38;5;28;01mimport\u001b[39;00m split_data\n\u001b[0;32m      5\u001b[0m \u001b[38;5;28;01mfrom\u001b[39;00m \u001b[38;5;21;01mfill_data\u001b[39;00m \u001b[38;5;28;01mimport\u001b[39;00m fill_data\n\u001b[0;32m      6\u001b[0m \u001b[38;5;28;01mfrom\u001b[39;00m \u001b[38;5;21;01mscale\u001b[39;00m \u001b[38;5;28;01mimport\u001b[39;00m scale_minmax\n",
      "\u001b[1;31mImportError\u001b[0m: cannot import name 'split_data' from 'split_dataset' (c:\\users\\rutul\\appdata\\local\\programs\\python\\python39\\lib\\site-packages\\split_dataset\\__init__.py)"
     ]
    }
   ],
   "source": [
    "\n",
    "!pip install split_dataset\n",
    "#!pip install scikit-learn\n",
    "#from sklearn.feature_extraction import extract_feature\n",
    "from split_dataset import split_data\n",
    "from fill_data import fill_data\n",
    "from scale import scale_minmax\n",
    "from models.train_model import TrainModel\n",
    "\n",
    "X_train, X_test, y_train, y_test = split_data()\n",
    "\n",
    "# Data Filling\n",
    "filled_x_train = fill_data(data_frame=X_train)\n",
    "filled_x_test = fill_data(data_frame=X_test)\n",
    "\n",
    "# Data Scaling\n",
    "scaled_train_data = scale_minmax(filled_x_train)\n",
    "scaled_test_data = scale_minmax(filled_x_test)\n",
    "\n",
    "# Features\n",
    "X_train = extract_feature(data_frame=scaled_train_data, y_train=y_train)\n",
    "X_test = extract_feature(data_frame=scaled_test_data, y_train=y_test)\n",
    "\n",
    "#Train Models\n",
    "model = TrainModel(X_train, X_test, y_train, y_test)"
   ]
  },
  {
   "cell_type": "code",
   "execution_count": null,
   "id": "95f10b5d",
   "metadata": {},
   "outputs": [],
   "source": []
  }
 ],
 "metadata": {
  "kernelspec": {
   "display_name": "Python 3 (ipykernel)",
   "language": "python",
   "name": "python3"
  },
  "language_info": {
   "codemirror_mode": {
    "name": "ipython",
    "version": 3
   },
   "file_extension": ".py",
   "mimetype": "text/x-python",
   "name": "python",
   "nbconvert_exporter": "python",
   "pygments_lexer": "ipython3",
   "version": "3.9.1"
  }
 },
 "nbformat": 4,
 "nbformat_minor": 5
}
